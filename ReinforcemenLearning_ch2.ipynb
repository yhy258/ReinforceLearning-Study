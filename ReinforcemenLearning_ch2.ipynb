{
  "nbformat": 4,
  "nbformat_minor": 0,
  "metadata": {
    "colab": {
      "name": "ReinforcemenLearning_ch2.ipynb",
      "provenance": [],
      "collapsed_sections": [],
      "toc_visible": true
    },
    "kernelspec": {
      "name": "python3",
      "display_name": "Python 3"
    },
    "language_info": {
      "name": "python"
    },
    "widgets": {
      "application/vnd.jupyter.widget-state+json": {
        "ed7d0352b1f344a7808bf9f127d61c7e": {
          "model_module": "@jupyter-widgets/controls",
          "model_name": "HBoxModel",
          "state": {
            "_view_name": "HBoxView",
            "_dom_classes": [],
            "_model_name": "HBoxModel",
            "_view_module": "@jupyter-widgets/controls",
            "_model_module_version": "1.5.0",
            "_view_count": null,
            "_view_module_version": "1.5.0",
            "box_style": "",
            "layout": "IPY_MODEL_da78062eab054a358e2f904f3041151b",
            "_model_module": "@jupyter-widgets/controls",
            "children": [
              "IPY_MODEL_fd2d0b5b03e940119fc1a9d07b75a00a",
              "IPY_MODEL_7dfd16fe551b4c82b579e023a975b37f"
            ]
          }
        },
        "da78062eab054a358e2f904f3041151b": {
          "model_module": "@jupyter-widgets/base",
          "model_name": "LayoutModel",
          "state": {
            "_view_name": "LayoutView",
            "grid_template_rows": null,
            "right": null,
            "justify_content": null,
            "_view_module": "@jupyter-widgets/base",
            "overflow": null,
            "_model_module_version": "1.2.0",
            "_view_count": null,
            "flex_flow": null,
            "width": null,
            "min_width": null,
            "border": null,
            "align_items": null,
            "bottom": null,
            "_model_module": "@jupyter-widgets/base",
            "top": null,
            "grid_column": null,
            "overflow_y": null,
            "overflow_x": null,
            "grid_auto_flow": null,
            "grid_area": null,
            "grid_template_columns": null,
            "flex": null,
            "_model_name": "LayoutModel",
            "justify_items": null,
            "grid_row": null,
            "max_height": null,
            "align_content": null,
            "visibility": null,
            "align_self": null,
            "height": null,
            "min_height": null,
            "padding": null,
            "grid_auto_rows": null,
            "grid_gap": null,
            "max_width": null,
            "order": null,
            "_view_module_version": "1.2.0",
            "grid_template_areas": null,
            "object_position": null,
            "object_fit": null,
            "grid_auto_columns": null,
            "margin": null,
            "display": null,
            "left": null
          }
        },
        "fd2d0b5b03e940119fc1a9d07b75a00a": {
          "model_module": "@jupyter-widgets/controls",
          "model_name": "FloatProgressModel",
          "state": {
            "_view_name": "ProgressView",
            "style": "IPY_MODEL_da5cce3c1a3c461d9d10fe4c362f00f0",
            "_dom_classes": [],
            "description": "100%",
            "_model_name": "FloatProgressModel",
            "bar_style": "success",
            "max": 2000,
            "_view_module": "@jupyter-widgets/controls",
            "_model_module_version": "1.5.0",
            "value": 2000,
            "_view_count": null,
            "_view_module_version": "1.5.0",
            "orientation": "horizontal",
            "min": 0,
            "description_tooltip": null,
            "_model_module": "@jupyter-widgets/controls",
            "layout": "IPY_MODEL_273831218ed04d0fa427d0bb248789a0"
          }
        },
        "7dfd16fe551b4c82b579e023a975b37f": {
          "model_module": "@jupyter-widgets/controls",
          "model_name": "HTMLModel",
          "state": {
            "_view_name": "HTMLView",
            "style": "IPY_MODEL_28689fd4f2eb4057ab437d319101e9b3",
            "_dom_classes": [],
            "description": "",
            "_model_name": "HTMLModel",
            "placeholder": "​",
            "_view_module": "@jupyter-widgets/controls",
            "_model_module_version": "1.5.0",
            "value": " 2000/2000 [17:53&lt;00:00,  1.86it/s]",
            "_view_count": null,
            "_view_module_version": "1.5.0",
            "description_tooltip": null,
            "_model_module": "@jupyter-widgets/controls",
            "layout": "IPY_MODEL_a77e4f0cb6d4451390f8d3fc671aae1f"
          }
        },
        "da5cce3c1a3c461d9d10fe4c362f00f0": {
          "model_module": "@jupyter-widgets/controls",
          "model_name": "ProgressStyleModel",
          "state": {
            "_view_name": "StyleView",
            "_model_name": "ProgressStyleModel",
            "description_width": "initial",
            "_view_module": "@jupyter-widgets/base",
            "_model_module_version": "1.5.0",
            "_view_count": null,
            "_view_module_version": "1.2.0",
            "bar_color": null,
            "_model_module": "@jupyter-widgets/controls"
          }
        },
        "273831218ed04d0fa427d0bb248789a0": {
          "model_module": "@jupyter-widgets/base",
          "model_name": "LayoutModel",
          "state": {
            "_view_name": "LayoutView",
            "grid_template_rows": null,
            "right": null,
            "justify_content": null,
            "_view_module": "@jupyter-widgets/base",
            "overflow": null,
            "_model_module_version": "1.2.0",
            "_view_count": null,
            "flex_flow": null,
            "width": null,
            "min_width": null,
            "border": null,
            "align_items": null,
            "bottom": null,
            "_model_module": "@jupyter-widgets/base",
            "top": null,
            "grid_column": null,
            "overflow_y": null,
            "overflow_x": null,
            "grid_auto_flow": null,
            "grid_area": null,
            "grid_template_columns": null,
            "flex": null,
            "_model_name": "LayoutModel",
            "justify_items": null,
            "grid_row": null,
            "max_height": null,
            "align_content": null,
            "visibility": null,
            "align_self": null,
            "height": null,
            "min_height": null,
            "padding": null,
            "grid_auto_rows": null,
            "grid_gap": null,
            "max_width": null,
            "order": null,
            "_view_module_version": "1.2.0",
            "grid_template_areas": null,
            "object_position": null,
            "object_fit": null,
            "grid_auto_columns": null,
            "margin": null,
            "display": null,
            "left": null
          }
        },
        "28689fd4f2eb4057ab437d319101e9b3": {
          "model_module": "@jupyter-widgets/controls",
          "model_name": "DescriptionStyleModel",
          "state": {
            "_view_name": "StyleView",
            "_model_name": "DescriptionStyleModel",
            "description_width": "",
            "_view_module": "@jupyter-widgets/base",
            "_model_module_version": "1.5.0",
            "_view_count": null,
            "_view_module_version": "1.2.0",
            "_model_module": "@jupyter-widgets/controls"
          }
        },
        "a77e4f0cb6d4451390f8d3fc671aae1f": {
          "model_module": "@jupyter-widgets/base",
          "model_name": "LayoutModel",
          "state": {
            "_view_name": "LayoutView",
            "grid_template_rows": null,
            "right": null,
            "justify_content": null,
            "_view_module": "@jupyter-widgets/base",
            "overflow": null,
            "_model_module_version": "1.2.0",
            "_view_count": null,
            "flex_flow": null,
            "width": null,
            "min_width": null,
            "border": null,
            "align_items": null,
            "bottom": null,
            "_model_module": "@jupyter-widgets/base",
            "top": null,
            "grid_column": null,
            "overflow_y": null,
            "overflow_x": null,
            "grid_auto_flow": null,
            "grid_area": null,
            "grid_template_columns": null,
            "flex": null,
            "_model_name": "LayoutModel",
            "justify_items": null,
            "grid_row": null,
            "max_height": null,
            "align_content": null,
            "visibility": null,
            "align_self": null,
            "height": null,
            "min_height": null,
            "padding": null,
            "grid_auto_rows": null,
            "grid_gap": null,
            "max_width": null,
            "order": null,
            "_view_module_version": "1.2.0",
            "grid_template_areas": null,
            "object_position": null,
            "object_fit": null,
            "grid_auto_columns": null,
            "margin": null,
            "display": null,
            "left": null
          }
        },
        "5f601af790664192b57457c895e3dce3": {
          "model_module": "@jupyter-widgets/controls",
          "model_name": "HBoxModel",
          "state": {
            "_view_name": "HBoxView",
            "_dom_classes": [],
            "_model_name": "HBoxModel",
            "_view_module": "@jupyter-widgets/controls",
            "_model_module_version": "1.5.0",
            "_view_count": null,
            "_view_module_version": "1.5.0",
            "box_style": "",
            "layout": "IPY_MODEL_2180158f55114699a5036ab08590c629",
            "_model_module": "@jupyter-widgets/controls",
            "children": [
              "IPY_MODEL_45944bd200954320a2b0c82d645c54c2",
              "IPY_MODEL_f2a941c9213c4c39aa2f26465d5894f3"
            ]
          }
        },
        "2180158f55114699a5036ab08590c629": {
          "model_module": "@jupyter-widgets/base",
          "model_name": "LayoutModel",
          "state": {
            "_view_name": "LayoutView",
            "grid_template_rows": null,
            "right": null,
            "justify_content": null,
            "_view_module": "@jupyter-widgets/base",
            "overflow": null,
            "_model_module_version": "1.2.0",
            "_view_count": null,
            "flex_flow": null,
            "width": null,
            "min_width": null,
            "border": null,
            "align_items": null,
            "bottom": null,
            "_model_module": "@jupyter-widgets/base",
            "top": null,
            "grid_column": null,
            "overflow_y": null,
            "overflow_x": null,
            "grid_auto_flow": null,
            "grid_area": null,
            "grid_template_columns": null,
            "flex": null,
            "_model_name": "LayoutModel",
            "justify_items": null,
            "grid_row": null,
            "max_height": null,
            "align_content": null,
            "visibility": null,
            "align_self": null,
            "height": null,
            "min_height": null,
            "padding": null,
            "grid_auto_rows": null,
            "grid_gap": null,
            "max_width": null,
            "order": null,
            "_view_module_version": "1.2.0",
            "grid_template_areas": null,
            "object_position": null,
            "object_fit": null,
            "grid_auto_columns": null,
            "margin": null,
            "display": null,
            "left": null
          }
        },
        "45944bd200954320a2b0c82d645c54c2": {
          "model_module": "@jupyter-widgets/controls",
          "model_name": "FloatProgressModel",
          "state": {
            "_view_name": "ProgressView",
            "style": "IPY_MODEL_1eec20c73e394c39a9fcd3ef9a449b7b",
            "_dom_classes": [],
            "description": "100%",
            "_model_name": "FloatProgressModel",
            "bar_style": "success",
            "max": 2000,
            "_view_module": "@jupyter-widgets/controls",
            "_model_module_version": "1.5.0",
            "value": 2000,
            "_view_count": null,
            "_view_module_version": "1.5.0",
            "orientation": "horizontal",
            "min": 0,
            "description_tooltip": null,
            "_model_module": "@jupyter-widgets/controls",
            "layout": "IPY_MODEL_cab6b7be74b24270a7ead7ed05580dbd"
          }
        },
        "f2a941c9213c4c39aa2f26465d5894f3": {
          "model_module": "@jupyter-widgets/controls",
          "model_name": "HTMLModel",
          "state": {
            "_view_name": "HTMLView",
            "style": "IPY_MODEL_c98f5a8bcfb849b5b1d853000e0cb326",
            "_dom_classes": [],
            "description": "",
            "_model_name": "HTMLModel",
            "placeholder": "​",
            "_view_module": "@jupyter-widgets/controls",
            "_model_module_version": "1.5.0",
            "value": " 2000/2000 [17:37&lt;00:00,  1.89it/s]",
            "_view_count": null,
            "_view_module_version": "1.5.0",
            "description_tooltip": null,
            "_model_module": "@jupyter-widgets/controls",
            "layout": "IPY_MODEL_f4f6ffe2ab734f378f8e424de6ba91c8"
          }
        },
        "1eec20c73e394c39a9fcd3ef9a449b7b": {
          "model_module": "@jupyter-widgets/controls",
          "model_name": "ProgressStyleModel",
          "state": {
            "_view_name": "StyleView",
            "_model_name": "ProgressStyleModel",
            "description_width": "initial",
            "_view_module": "@jupyter-widgets/base",
            "_model_module_version": "1.5.0",
            "_view_count": null,
            "_view_module_version": "1.2.0",
            "bar_color": null,
            "_model_module": "@jupyter-widgets/controls"
          }
        },
        "cab6b7be74b24270a7ead7ed05580dbd": {
          "model_module": "@jupyter-widgets/base",
          "model_name": "LayoutModel",
          "state": {
            "_view_name": "LayoutView",
            "grid_template_rows": null,
            "right": null,
            "justify_content": null,
            "_view_module": "@jupyter-widgets/base",
            "overflow": null,
            "_model_module_version": "1.2.0",
            "_view_count": null,
            "flex_flow": null,
            "width": null,
            "min_width": null,
            "border": null,
            "align_items": null,
            "bottom": null,
            "_model_module": "@jupyter-widgets/base",
            "top": null,
            "grid_column": null,
            "overflow_y": null,
            "overflow_x": null,
            "grid_auto_flow": null,
            "grid_area": null,
            "grid_template_columns": null,
            "flex": null,
            "_model_name": "LayoutModel",
            "justify_items": null,
            "grid_row": null,
            "max_height": null,
            "align_content": null,
            "visibility": null,
            "align_self": null,
            "height": null,
            "min_height": null,
            "padding": null,
            "grid_auto_rows": null,
            "grid_gap": null,
            "max_width": null,
            "order": null,
            "_view_module_version": "1.2.0",
            "grid_template_areas": null,
            "object_position": null,
            "object_fit": null,
            "grid_auto_columns": null,
            "margin": null,
            "display": null,
            "left": null
          }
        },
        "c98f5a8bcfb849b5b1d853000e0cb326": {
          "model_module": "@jupyter-widgets/controls",
          "model_name": "DescriptionStyleModel",
          "state": {
            "_view_name": "StyleView",
            "_model_name": "DescriptionStyleModel",
            "description_width": "",
            "_view_module": "@jupyter-widgets/base",
            "_model_module_version": "1.5.0",
            "_view_count": null,
            "_view_module_version": "1.2.0",
            "_model_module": "@jupyter-widgets/controls"
          }
        },
        "f4f6ffe2ab734f378f8e424de6ba91c8": {
          "model_module": "@jupyter-widgets/base",
          "model_name": "LayoutModel",
          "state": {
            "_view_name": "LayoutView",
            "grid_template_rows": null,
            "right": null,
            "justify_content": null,
            "_view_module": "@jupyter-widgets/base",
            "overflow": null,
            "_model_module_version": "1.2.0",
            "_view_count": null,
            "flex_flow": null,
            "width": null,
            "min_width": null,
            "border": null,
            "align_items": null,
            "bottom": null,
            "_model_module": "@jupyter-widgets/base",
            "top": null,
            "grid_column": null,
            "overflow_y": null,
            "overflow_x": null,
            "grid_auto_flow": null,
            "grid_area": null,
            "grid_template_columns": null,
            "flex": null,
            "_model_name": "LayoutModel",
            "justify_items": null,
            "grid_row": null,
            "max_height": null,
            "align_content": null,
            "visibility": null,
            "align_self": null,
            "height": null,
            "min_height": null,
            "padding": null,
            "grid_auto_rows": null,
            "grid_gap": null,
            "max_width": null,
            "order": null,
            "_view_module_version": "1.2.0",
            "grid_template_areas": null,
            "object_position": null,
            "object_fit": null,
            "grid_auto_columns": null,
            "margin": null,
            "display": null,
            "left": null
          }
        }
      }
    }
  },
  "cells": [
    {
      "cell_type": "markdown",
      "metadata": {
        "id": "pJS2EUrygEp6"
      },
      "source": [
        "# 10-armed testbed\n",
        "## 여러 Agents에 대한 결과를 내주자.\n",
        "## 이처럼 역할을 확실히 나눠서 하는 것도 괜찮긴 한데 좀 더 자유롭고 쉽게 구현하는 것은 아랫 부분이 더 나은 것 같다"
      ]
    },
    {
      "cell_type": "code",
      "metadata": {
        "id": "iRFSXseQVhCa"
      },
      "source": [
        "import numpy as np\n",
        "\n",
        "class Testbed(object) : # 여기에서 state, action에 대한 정보를 갖는다.\n",
        "    def __init__(self, K_arm, mean, std):\n",
        "        self.K_arm = K_arm\n",
        "        self.mean = mean\n",
        "        self.std = std\n",
        "        self.Actarr = np.zeros([K_arm])\n",
        "        self.optim = 0\n",
        "        self.reset()\n",
        "\n",
        "    def reset(self):\n",
        "        self.Actarr = np.random.normal(loc = self.mean, scale = self.std, size = self.K_arm) # action에 대한 reward 분포의 mean (q*(a))\n",
        "        self.optim = np.argmax(self.Actarr)\n",
        "\n",
        "class Agent(object) :\n",
        "    def __init__(self, nArms, e_prob):\n",
        "        self.nArms = nArms\n",
        "        self.e_prob = e_prob\n",
        "        self.lastAction = None\n",
        "\n",
        "        self.time_step = 0\n",
        "        self.K_action = np.zeros(nArms)\n",
        "        self.rSum = np.zeros(nArms)\n",
        "        self.valueEstimates = np.zeros(nArms)\n",
        "        \n",
        "\n",
        "    def action(self):\n",
        "        rand_prob = np.random.random() # [0,1] random\n",
        "        if self.e_prob >= rand_prob :\n",
        "            a = np.random.choice(self.nArms)\n",
        "        else :  # Greedy\n",
        "            maxAction = np.argmax(self.valueEstimates)\n",
        "            action = np.where(self.valueEstimates == self.valueEstimates[maxAction])[0]\n",
        "\n",
        "            if len(action) == 0:\n",
        "                a = action\n",
        "            else :\n",
        "                a = np.random.choice(action)\n",
        "        self.lastAction = a\n",
        "        return a\n",
        "\n",
        "    def interpreter(self, reward):\n",
        "        At = self.lastAction\n",
        "        self.time_step += 1\n",
        "\n",
        "        self.K_action[At] += 1\n",
        "        self.rSum[At] += reward\n",
        "        self.valueEstimates[At] = self.rSum[At]/self.K_action[At]\n",
        "    #  다음 iter시를 위해 초기화\n",
        "    def reset(self):\n",
        "        self.lastAction = None\n",
        "        self.time_step = 0\n",
        "        \n",
        "        self.K_action[:] = 0\n",
        "        self.rSum[:] = 0\n",
        "        self.valueEstimates[:] = 0\n",
        "\n",
        "\n",
        "class Environment(object):\n",
        "    def __init__(self, testbed, agents, plays, iterations): # 실행부\n",
        "        self.testbed = testbed\n",
        "        self.agents = agents\n",
        "        self.plays = plays # timestep 길이.\n",
        "        self.iterations = iterations\n",
        "\n",
        "    def play(self):\n",
        "        # Array to store the scores, number of plays X number of agents\n",
        "        scoreArr = np.zeros((self.plays, len(self.agents)))\n",
        "        # Array to maintain optimal count, Graph 2\n",
        "        optimalArr = np.zeros((self.plays, len(self.agents)))\n",
        "\n",
        "        for iter in range(self.iterations):\n",
        "            if (iter + 1) % 100 == 0:\n",
        "                print(\"Complete Iteration : {}\".format(iter + 1))\n",
        "            self.testbed.reset()\n",
        "            for agent in agents :\n",
        "                agent.reset()\n",
        "            \n",
        "            for this_play in range(self.plays):\n",
        "                agtCnt = 0\n",
        "                for KAgent in self.agents:\n",
        "                    \n",
        "                    Act = KAgent.action()\n",
        "                    Reward = np.random.normal(self.testbed.Actarr[Act], 1.) # 현재 모델에서의 Reward 샘플링 되는 것.\n",
        "                    KAgent.interpreter(Reward)\n",
        "\n",
        "                    scoreArr[this_play, agtCnt] += Reward\n",
        "                    \n",
        "                    if Act == self.testbed.optim :\n",
        "                        optimalArr[this_play, agtCnt] += 1 # 실제 optim 행동을 맞췄는가.\n",
        "\n",
        "                    agtCnt += 1\n",
        "\n",
        "        scoreAvg = scoreArr/self.iterations\n",
        "        optimalAvg = optimalArr/self.iterations\n",
        "\n",
        "        return scoreAvg, optimalAvg"
      ],
      "execution_count": null,
      "outputs": []
    },
    {
      "cell_type": "code",
      "metadata": {
        "colab": {
          "base_uri": "https://localhost:8080/"
        },
        "id": "EnSHzmG7rP4q",
        "outputId": "716d1c40-a398-4de0-b1e1-a6ab9f5fa064"
      },
      "source": [
        "\n",
        "testbed = Testbed(10, 0, 1.)\n",
        "agents = [Agent(10, 0),Agent(10, 0.1),Agent(10, 0.01)]\n",
        "env = Environment(testbed ,agents, 1000, 2000)\n",
        "print(\"Start ..\")\n",
        "scoreAvg, optimalAvg = env.play()"
      ],
      "execution_count": null,
      "outputs": [
        {
          "output_type": "stream",
          "text": [
            "Start ..\n",
            "Complete Iteration : 100\n",
            "Complete Iteration : 200\n",
            "Complete Iteration : 300\n",
            "Complete Iteration : 400\n",
            "Complete Iteration : 500\n",
            "Complete Iteration : 600\n",
            "Complete Iteration : 700\n",
            "Complete Iteration : 800\n",
            "Complete Iteration : 900\n",
            "Complete Iteration : 1000\n",
            "Complete Iteration : 1100\n",
            "Complete Iteration : 1200\n",
            "Complete Iteration : 1300\n",
            "Complete Iteration : 1400\n",
            "Complete Iteration : 1500\n",
            "Complete Iteration : 1600\n",
            "Complete Iteration : 1700\n",
            "Complete Iteration : 1800\n",
            "Complete Iteration : 1900\n",
            "Complete Iteration : 2000\n"
          ],
          "name": "stdout"
        }
      ]
    },
    {
      "cell_type": "code",
      "metadata": {
        "colab": {
          "base_uri": "https://localhost:8080/",
          "height": 573
        },
        "id": "hESwsrmVr0K5",
        "outputId": "aaebdb8c-cc66-4083-887a-eafc4e5bfcdd"
      },
      "source": [
        "import matplotlib.pyplot as plt\n",
        "\n",
        "plt.title(\"10-Armed TestBed - Average Rewards\")\n",
        "plt.plot(scoreAvg)\n",
        "plt.ylabel('Average Reward')\n",
        "plt.xlabel('Plays')\n",
        "plt.legend(agents, loc=4)\n",
        "plt.show()\n",
        "\n",
        "#Graph 1 - optimal selections over all plays\n",
        "plt.title(\"10-Armed TestBed - % Optimal Action\")\n",
        "plt.plot(optimalAvg * 100)\n",
        "plt.ylim(0, 100)\n",
        "plt.ylabel('% Optimal Action')\n",
        "plt.xlabel('Plays')\n",
        "plt.legend(agents, loc=4)\n",
        "plt.show()"
      ],
      "execution_count": null,
      "outputs": [
        {
          "output_type": "display_data",
          "data": {
            "image/png": "[encoded data removed]",
            "text/plain": [
              "<Figure size 432x288 with 1 Axes>"
            ]
          },
          "metadata": {
            "tags": [],
            "needs_background": "light"
          }
        },
        {
          "output_type": "display_data",
          "data": {
            "image/png": "[encoded data removed]",
            "text/plain": [
              "<Figure size 432x288 with 1 Axes>"
            ]
          },
          "metadata": {
            "tags": [],
            "needs_background": "light"
          }
        }
      ]
    },
    {
      "cell_type": "code",
      "metadata": {
        "id": "gP5oWR8ZzzAx"
      },
      "source": [
        "import numpy as np\n",
        "from tqdm.notebook import tqdm\n",
        "\"\"\"\n",
        "    <<Non Stationary>>\n",
        "\n",
        "    epsilon : exploration\n",
        "    average_sample : 표본평균 형식인지.\n",
        "    initial_value : value estimate 경우\n",
        "    gt_initial : q*(a) initial value\n",
        "    step_size : alpha를 의미. (고정된 weight)\n",
        "\n",
        "\n",
        "\"\"\"\n",
        "\n",
        "class GreedyEpsilon(object):\n",
        "    def __init__(self, n_arms, epsilon, average_sample, initial_value, gt_initial, step_size=0):\n",
        "        self.n_arms = n_arms\n",
        "        self.epsilon = epsilon\n",
        "        self.average_sample = average_sample\n",
        "        self.initial_value = initial_value\n",
        "        self.gt_initial = gt_initial\n",
        "        self.step_size = step_size\n",
        "        self.times = 0\n",
        "\n",
        "    def reset(self):\n",
        "        self.q_star = np.zeros(self.n_arms) + self.gt_initial\n",
        "        self.estimator = np.zeros(self.n_arms) + self.initial_value\n",
        "        self.Act_num = np.zeros(self.n_arms)\n",
        "        self.optimal_action = np.argmax(self.q_star)\n",
        "\n",
        "\n",
        "    def act(self): # 액션\n",
        "        ran = np.random.random()\n",
        "        if ran < self.epsilon :\n",
        "            return np.random.choice(self.n_arms)\n",
        "        else :\n",
        "            max_val = np.max(self.estimator)\n",
        "            return np.random.choice([i for i,k in enumerate(self.estimator) if k == max_val])\n",
        "\n",
        "    def step(self, action):\n",
        "        self.times += 1\n",
        "        reward = self.q_star[action] + np.random.randn()\n",
        "\n",
        "        self.Act_num[action] += 1\n",
        "        self.q_star += np.random.randn(self.n_arms) * 0.01 # Non Stationary\n",
        "\n",
        "        if self.average_sample :\n",
        "            self.estimator[action] += (1./self.Act_num[action])*(reward - self.estimator[action])\n",
        "        else :\n",
        "            self.estimator[action] += self.step_size*(reward - self.estimator[action])\n",
        "        \n",
        "        return reward\n",
        "\n",
        "\n",
        "class UCB(object):\n",
        "    def __init__(self, n_arms, average_sample, initial_value, gt_initial, step_size=0, c= 2.0):\n",
        "        self.n_arms = n_arms\n",
        "\n",
        "        self.average_sample = average_sample\n",
        "        self.initial_value = initial_value\n",
        "        self.gt_initial = gt_initial\n",
        "        self.step_size = step_size\n",
        "        self.times = 0\n",
        "        self.c = c\n",
        "\n",
        "    def reset(self):\n",
        "        self.q_star = np.zeros(self.n_arms) + self.gt_initial\n",
        "        self.estimator = np.zeros(self.n_arms) + self.initial_value\n",
        "        self.Act_num = np.zeros(self.n_arms)\n",
        "        self.optimal_action = np.argmax(self.q_star)\n",
        "\n",
        "\n",
        "    def act(self): # 액션\n",
        "\n",
        "        ran = np.random.random()\n",
        "        temp = [act_est + self.c*(np.sqrt(np.log(self.times+1)/(act_num+1e-10))) for act_est, act_num in zip(self.estimator, self.Act_num)]\n",
        "        max_val = np.max(temp)\n",
        "        actions = [i for i,v in enumerate(temp) if v == max_val]\n",
        "        return np.random.choice(actions)\n",
        "\n",
        "    def step(self, action):\n",
        "        self.times += 1\n",
        "        reward = self.q_star[action] + np.random.randn()\n",
        "\n",
        "        self.Act_num[action] += 1\n",
        "        self.q_star += np.random.randn(self.n_arms) * 0.01 # Non Stationary\n",
        "\n",
        "        if self.average_sample :\n",
        "            self.estimator[action] += (1./self.Act_num[action])*(reward - self.estimator[action])\n",
        "        else :\n",
        "            self.estimator[action] += self.step_size*(reward - self.estimator[action])\n",
        "        \n",
        "        return reward\n",
        "\n",
        "class GradientBandit(object):\n",
        "    def __init__(self,n_arms, alpha, gt_initial, is_baseline=True):\n",
        "        self.n_arms = n_arms\n",
        "        self.alpha = alpha\n",
        "        self.gt_initial = gt_initial\n",
        "        self.is_baseline = is_baseline\n",
        "        self.times = 0\n",
        "        \n",
        "\n",
        "    def reset(self):\n",
        "        self.preference = np.zeros(self.n_arms)\n",
        "        self.q_star = np.zeros(self.n_arms)\n",
        "        self.average_reward = 0\n",
        "        self.optimal_action = np.argmax(self.q_star)\n",
        "\n",
        "    def act(self):\n",
        "        softmax_unnormalized = np.exp(self.preference)\n",
        "        self.softmax = softmax_unnormalized / sum(softmax_unnormalized)\n",
        "\n",
        "        return np.random.choice(range(self.n_arms), p=self.softmax)\n",
        "\n",
        "    def step(self, action):\n",
        "        reward = self.q_star[action] + np.random.randn()\n",
        "        self.times += 1\n",
        "\n",
        "        self.q_star += np.random.randn(self.n_arms)*0.01\n",
        "        self.average_reward += 1.0 / self.times * (reward - self.average_reward)\n",
        "\n",
        "        if self.is_baseline :\n",
        "            mean_reward = self.average_reward\n",
        "        else :\n",
        "            mean_reward = 0\n",
        "\n",
        "        one_hot = np.zeros(self.n_arms)\n",
        "        one_hot[action] = 1\n",
        "        \n",
        "        self.preference += self.alpha*(reward - mean_reward)*(one_hot-self.softmax)\n",
        "        return reward\n",
        "\n",
        "def simulate( bandits, iteration, plays ):\n",
        "    optimal_act = np.zeros([len(bandits), iteration, plays])\n",
        "    rewards_list = np.zeros([len(bandits), iteration, plays])\n",
        "    for i, bandit in enumerate(bandits) :\n",
        "\n",
        "        for iter in tqdm(range(iteration)):\n",
        "            bandit.reset()\n",
        "            for play in range(plays):\n",
        "                action = bandit.act()\n",
        "                reward = bandit.step(action)\n",
        "\n",
        "                rewards_list[i, iter, play] = reward\n",
        "\n",
        "                if action == bandit.optimal_action:\n",
        "                    optimal_act[i, iter, play] = 1\n",
        "    \n",
        "    rewards = np.mean(rewards_list, axis =1)\n",
        "    optimal_act = np.mean(optimal_act, axis =1)\n",
        "    return rewards ,optimal_act\n",
        "\n"
      ],
      "execution_count": 10,
      "outputs": []
    },
    {
      "cell_type": "markdown",
      "metadata": {
        "id": "Q23NOWMMunZQ"
      },
      "source": [
        "# Practice 2.5\n",
        "## 점증적 구현과 기하급수적 최신 가중 평균"
      ]
    },
    {
      "cell_type": "code",
      "metadata": {
        "id": "vUAcrqJXDvua",
        "colab": {
          "base_uri": "https://localhost:8080/",
          "height": 115,
          "referenced_widgets": [
            "ed7d0352b1f344a7808bf9f127d61c7e",
            "da78062eab054a358e2f904f3041151b",
            "fd2d0b5b03e940119fc1a9d07b75a00a",
            "7dfd16fe551b4c82b579e023a975b37f",
            "da5cce3c1a3c461d9d10fe4c362f00f0",
            "273831218ed04d0fa427d0bb248789a0",
            "28689fd4f2eb4057ab437d319101e9b3",
            "a77e4f0cb6d4451390f8d3fc671aae1f",
            "5f601af790664192b57457c895e3dce3",
            "2180158f55114699a5036ab08590c629",
            "45944bd200954320a2b0c82d645c54c2",
            "f2a941c9213c4c39aa2f26465d5894f3",
            "1eec20c73e394c39a9fcd3ef9a449b7b",
            "cab6b7be74b24270a7ead7ed05580dbd",
            "c98f5a8bcfb849b5b1d853000e0cb326",
            "f4f6ffe2ab734f378f8e424de6ba91c8"
          ]
        },
        "outputId": "c6cb6766-d885-4faf-cc36-e538c226725a"
      },
      "source": [
        "bandits = [\n",
        "           GreedyEpsilon(n_arms= 10, epsilon =0.1, average_sample=True, initial_value=0., gt_initial=0., step_size=0),\n",
        "           GreedyEpsilon(n_arms= 10, epsilon =0.1, average_sample=False, initial_value=0., gt_initial=0., step_size=0.1)\n",
        "           ]\n",
        "\n",
        "\n",
        "rewards, optimal_act = simulate(bandits, 2000, 10000)"
      ],
      "execution_count": null,
      "outputs": [
        {
          "output_type": "display_data",
          "data": {
            "application/vnd.jupyter.widget-view+json": {
              "model_id": "ed7d0352b1f344a7808bf9f127d61c7e",
              "version_minor": 0,
              "version_major": 2
            },
            "text/plain": [
              "HBox(children=(FloatProgress(value=0.0, max=2000.0), HTML(value='')))"
            ]
          },
          "metadata": {
            "tags": []
          }
        },
        {
          "output_type": "stream",
          "text": [
            "\n"
          ],
          "name": "stdout"
        },
        {
          "output_type": "display_data",
          "data": {
            "application/vnd.jupyter.widget-view+json": {
              "model_id": "5f601af790664192b57457c895e3dce3",
              "version_minor": 0,
              "version_major": 2
            },
            "text/plain": [
              "HBox(children=(FloatProgress(value=0.0, max=2000.0), HTML(value='')))"
            ]
          },
          "metadata": {
            "tags": []
          }
        },
        {
          "output_type": "stream",
          "text": [
            "\n"
          ],
          "name": "stdout"
        }
      ]
    },
    {
      "cell_type": "code",
      "metadata": {
        "colab": {
          "base_uri": "https://localhost:8080/",
          "height": 543
        },
        "id": "_-pTJUpnFfdL",
        "outputId": "34fc4025-985f-4499-f349-b7e671206e6e"
      },
      "source": [
        "import matplotlib.pyplot as plt\n",
        "\n",
        "label = ['average sampling', 'constant step-size']\n",
        "color = ['r', 'b']\n",
        "for r,l,c in zip(rewards,label,color):\n",
        "    plt.plot(r, label=l, color=c)\n",
        "plt.xlabel('Steps')\n",
        "plt.ylabel('Average rewards')\n",
        "plt.legend()\n",
        "\n",
        "plt.show()\n",
        "\n",
        "\n",
        "label = ['average sampling', 'constant step-size']\n",
        "color = ['r', 'b']\n",
        "\n",
        "for r,l,c in zip(optimal_act,label,color):\n",
        "    plt.plot(r, label=l, color=c)\n",
        "plt.xlabel('Steps')\n",
        "plt.ylabel('Average rewards')\n",
        "plt.legend()\n",
        "\n",
        "plt.show()"
      ],
      "execution_count": null,
      "outputs": [
        {
          "output_type": "display_data",
          "data": {
            "image/png": "[encoded data removed]",
            "text/plain": [
              "<Figure size 432x288 with 1 Axes>"
            ]
          },
          "metadata": {
            "tags": [],
            "needs_background": "light"
          }
        },
        {
          "output_type": "display_data",
          "data": {
            "image/png": "[encoded data removed]",
            "text/plain": [
              "<Figure size 432x288 with 1 Axes>"
            ]
          },
          "metadata": {
            "tags": [],
            "needs_background": "light"
          }
        }
      ]
    },
    {
      "cell_type": "markdown",
      "metadata": {
        "id": "rUZLS1_xGuGR"
      },
      "source": [
        "# Practice 2.10"
      ]
    },
    {
      "cell_type": "code",
      "metadata": {
        "id": "iSytNWouGwa5"
      },
      "source": [
        "\"\"\"\n",
        "    parameters : \n",
        "    greedy_1 : 1/128, 1/64, 1/32, 1/16, 1/8, 1/4\n",
        "    greedy_2 : 1/128, 1/64, 1/32, 1/16, 1/8, 1/4, alpha : 0.1 \n",
        "    GradientBandit : 1/32, 1/16, 1/8, 1/4, 1/2, 1, 2, 4\n",
        "    UCB : 1/16, 1/8, 1/4, 1/2, 1, 2, 4\n",
        "    unstationary_positive_start : 1/4, 1/2, 1, 2, 4\n",
        "\"\"\"\n",
        "\n",
        "bandits_name = [\"greedy_1\", \"greedy_2\", \"GradientBandit\", \"UCB\", \"unstationary_positive_start\"]\n",
        "\n",
        "parameters = {\"greedy_1\" :np.arange(-7,-1,dtype=float),\n",
        "              \"greedy_2\" :np.arange(-7,-1,dtype=float),\n",
        "              \"GradientBandit\" :np.arange(-5,3,dtype=float),\n",
        "              \"UCB\" :np.arange(-4,3,dtype=float),\n",
        "              \"unstationary_positive_start\" :np.arange(-2, 3,dtype=float)}\n",
        "\n",
        "greedy_1 = [GreedyEpsilon(n_arms= 10, epsilon =np.power(2, epsilon), average_sample=True, initial_value=0., gt_initial=0., step_size=0) for epsilon in parameters['greedy_1']]\n",
        "greedy_2 = [GreedyEpsilon(n_arms= 10, epsilon =np.power(2, epsilon), average_sample=False, initial_value=0., gt_initial=0., step_size=0.1) for epsilon in parameters['greedy_2']]\n",
        "gradient = [GradientBandit(n_arms=10, alpha = np.power(2, alpha), gt_initial=0., is_baseline=True) for alpha in parameters['GradientBandit']]\n",
        "ucb = [UCB(n_arms=10, average_sample=True, initial_value=0, gt_initial=0, step_size=0, c= np.power(2, c)) for c in parameters['UCB']]\n",
        "positive = [GreedyEpsilon(n_arms= 10, epsilon =0, average_sample=False, initial_value=np.power(2, initial_value), gt_initial=0., step_size=0.1) for initial_value in parameters['unstationary_positive_start']]"
      ],
      "execution_count": 16,
      "outputs": []
    },
    {
      "cell_type": "code",
      "metadata": {
        "colab": {
          "base_uri": "https://localhost:8080/",
          "height": 265
        },
        "id": "koBd8AeOJxkF",
        "outputId": "04e68b07-db84-45b4-8903-b1d3818cff86"
      },
      "source": [
        "import matplotlib.pyplot as plt\n",
        "\n",
        "all_bandits_rewards = []\n",
        "\n",
        "for i, bandits in enumerate([greedy_1, greedy_2, gradient, ucb, positive]):\n",
        "    print(\"This bandit is : {}\".format(bandits_name[i]))\n",
        "    this_bandits_rewards, _ = simulate(bandits, 2000, 2000)\n",
        "    all_bandits_rewards.append(this_bandits_rewards)\n",
        "\n",
        "\n",
        "for i,bandits_rewards in enumerate(all_bandits_rewards) :\n",
        "    performance_matrix = bandits_rewards[:,1000:]\n",
        "    performance = np.mean(performance_matrix, axis = -1)\n",
        "    plt.plot(parameters[bandits_name[i]],performance)\n",
        "plt.legend(bandits_name)\n",
        "\n",
        "plt.show()"
      ],
      "execution_count": 24,
      "outputs": [
        {
          "output_type": "display_data",
          "data": {
            "image/png": "[encoded data removed]",
            "text/plain": [
              "<Figure size 432x288 with 1 Axes>"
            ]
          },
          "metadata": {
            "tags": [],
            "needs_background": "light"
          }
        }
      ]
    },
    {
      "cell_type": "code",
      "metadata": {
        "id": "_ZJSnP8p-6cu"
      },
      "source": [
        ""
      ],
      "execution_count": null,
      "outputs": []
    }
  ]
}